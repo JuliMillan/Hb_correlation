{
  "nbformat": 4,
  "nbformat_minor": 0,
  "metadata": {
    "colab": {
      "name": "Correlation_hociqueos.ipynb",
      "provenance": [],
      "collapsed_sections": [],
      "authorship_tag": "ABX9TyOEA3wsoJx6wlkgcrD6RGMQ",
      "include_colab_link": true
    },
    "kernelspec": {
      "name": "python3",
      "display_name": "Python 3"
    },
    "language_info": {
      "name": "python"
    }
  },
  "cells": [
    {
      "cell_type": "markdown",
      "metadata": {
        "id": "view-in-github",
        "colab_type": "text"
      },
      "source": [
        "<a href=\"https://colab.research.google.com/github/JuliMillan/Hb_correlation/blob/main/Correlation_hociqueos.ipynb\" target=\"_parent\"><img src=\"https://colab.research.google.com/assets/colab-badge.svg\" alt=\"Open In Colab\"/></a>"
      ]
    },
    {
      "cell_type": "code",
      "metadata": {
        "id": "fCV_3Piw7QTc"
      },
      "source": [
        "import matplotlib.pyplot as plt\n",
        "import pandas as pd\n",
        "import seaborn as sns\n",
        "sns.set_theme(color_codes=True)\n",
        "import numpy as np\n",
        "import scipy.stats"
      ],
      "execution_count": 1,
      "outputs": []
    },
    {
      "cell_type": "code",
      "metadata": {
        "colab": {
          "base_uri": "https://localhost:8080/"
        },
        "id": "vmMxFa3Au74g",
        "outputId": "93906fd8-f405-4ac1-8625-7b6e3617db26"
      },
      "source": [
        "from google.colab import drive\n",
        "drive.mount('/content/drive')"
      ],
      "execution_count": 2,
      "outputs": [
        {
          "output_type": "stream",
          "name": "stdout",
          "text": [
            "Drive already mounted at /content/drive; to attempt to forcibly remount, call drive.mount(\"/content/drive\", force_remount=True).\n"
          ]
        }
      ]
    },
    {
      "cell_type": "code",
      "metadata": {
        "colab": {
          "base_uri": "https://localhost:8080/",
          "height": 489
        },
        "id": "g6CZkn0g3mpB",
        "outputId": "29cfa28a-3dbc-4724-c76a-79775632698a"
      },
      "source": [
        "hembras = pd.read_excel('/content/drive/MyDrive/Labo/hociqueos.xlsx', sheet_name='Hembras')\n",
        "hembras"
      ],
      "execution_count": 3,
      "outputs": [
        {
          "output_type": "execute_result",
          "data": {
            "text/html": [
              "<div>\n",
              "<style scoped>\n",
              "    .dataframe tbody tr th:only-of-type {\n",
              "        vertical-align: middle;\n",
              "    }\n",
              "\n",
              "    .dataframe tbody tr th {\n",
              "        vertical-align: top;\n",
              "    }\n",
              "\n",
              "    .dataframe thead th {\n",
              "        text-align: right;\n",
              "    }\n",
              "</style>\n",
              "<table border=\"1\" class=\"dataframe\">\n",
              "  <thead>\n",
              "    <tr style=\"text-align: right;\">\n",
              "      <th></th>\n",
              "      <th>hociqueos</th>\n",
              "      <th>citosol erk1</th>\n",
              "      <th>citosol erk2</th>\n",
              "      <th>nucleo erk1</th>\n",
              "      <th>nucleo erk2</th>\n",
              "    </tr>\n",
              "  </thead>\n",
              "  <tbody>\n",
              "    <tr>\n",
              "      <th>0</th>\n",
              "      <td>47</td>\n",
              "      <td>0.616027</td>\n",
              "      <td>0.479929</td>\n",
              "      <td>1.190118</td>\n",
              "      <td>1.687073</td>\n",
              "    </tr>\n",
              "    <tr>\n",
              "      <th>1</th>\n",
              "      <td>26</td>\n",
              "      <td>0.599067</td>\n",
              "      <td>0.562597</td>\n",
              "      <td>1.024878</td>\n",
              "      <td>0.944137</td>\n",
              "    </tr>\n",
              "    <tr>\n",
              "      <th>2</th>\n",
              "      <td>56</td>\n",
              "      <td>0.851201</td>\n",
              "      <td>0.882199</td>\n",
              "      <td>0.914065</td>\n",
              "      <td>0.914018</td>\n",
              "    </tr>\n",
              "    <tr>\n",
              "      <th>3</th>\n",
              "      <td>13</td>\n",
              "      <td>0.726710</td>\n",
              "      <td>0.572834</td>\n",
              "      <td>0.902463</td>\n",
              "      <td>0.587509</td>\n",
              "    </tr>\n",
              "    <tr>\n",
              "      <th>4</th>\n",
              "      <td>39</td>\n",
              "      <td>0.958963</td>\n",
              "      <td>0.718084</td>\n",
              "      <td>1.070110</td>\n",
              "      <td>0.894425</td>\n",
              "    </tr>\n",
              "    <tr>\n",
              "      <th>5</th>\n",
              "      <td>64</td>\n",
              "      <td>0.838630</td>\n",
              "      <td>0.884543</td>\n",
              "      <td>0.926026</td>\n",
              "      <td>0.963110</td>\n",
              "    </tr>\n",
              "    <tr>\n",
              "      <th>6</th>\n",
              "      <td>59</td>\n",
              "      <td>0.671587</td>\n",
              "      <td>0.910924</td>\n",
              "      <td>1.120593</td>\n",
              "      <td>1.060848</td>\n",
              "    </tr>\n",
              "    <tr>\n",
              "      <th>7</th>\n",
              "      <td>36</td>\n",
              "      <td>0.636831</td>\n",
              "      <td>0.417777</td>\n",
              "      <td>0.982541</td>\n",
              "      <td>0.775624</td>\n",
              "    </tr>\n",
              "    <tr>\n",
              "      <th>8</th>\n",
              "      <td>52</td>\n",
              "      <td>0.952159</td>\n",
              "      <td>0.834290</td>\n",
              "      <td>0.867578</td>\n",
              "      <td>0.705963</td>\n",
              "    </tr>\n",
              "    <tr>\n",
              "      <th>9</th>\n",
              "      <td>31</td>\n",
              "      <td>0.721161</td>\n",
              "      <td>0.807514</td>\n",
              "      <td>0.990805</td>\n",
              "      <td>0.880341</td>\n",
              "    </tr>\n",
              "    <tr>\n",
              "      <th>10</th>\n",
              "      <td>43</td>\n",
              "      <td>0.575527</td>\n",
              "      <td>0.492544</td>\n",
              "      <td>0.646417</td>\n",
              "      <td>0.570520</td>\n",
              "    </tr>\n",
              "    <tr>\n",
              "      <th>11</th>\n",
              "      <td>51</td>\n",
              "      <td>0.775331</td>\n",
              "      <td>0.882098</td>\n",
              "      <td>0.913927</td>\n",
              "      <td>0.908153</td>\n",
              "    </tr>\n",
              "    <tr>\n",
              "      <th>12</th>\n",
              "      <td>68</td>\n",
              "      <td>0.878226</td>\n",
              "      <td>0.867409</td>\n",
              "      <td>0.960077</td>\n",
              "      <td>0.773839</td>\n",
              "    </tr>\n",
              "    <tr>\n",
              "      <th>13</th>\n",
              "      <td>54</td>\n",
              "      <td>0.963575</td>\n",
              "      <td>1.559854</td>\n",
              "      <td>0.842170</td>\n",
              "      <td>0.901097</td>\n",
              "    </tr>\n",
              "  </tbody>\n",
              "</table>\n",
              "</div>"
            ],
            "text/plain": [
              "    hociqueos  citosol erk1  citosol erk2  nucleo erk1  nucleo erk2\n",
              "0          47      0.616027      0.479929     1.190118     1.687073\n",
              "1          26      0.599067      0.562597     1.024878     0.944137\n",
              "2          56      0.851201      0.882199     0.914065     0.914018\n",
              "3          13      0.726710      0.572834     0.902463     0.587509\n",
              "4          39      0.958963      0.718084     1.070110     0.894425\n",
              "5          64      0.838630      0.884543     0.926026     0.963110\n",
              "6          59      0.671587      0.910924     1.120593     1.060848\n",
              "7          36      0.636831      0.417777     0.982541     0.775624\n",
              "8          52      0.952159      0.834290     0.867578     0.705963\n",
              "9          31      0.721161      0.807514     0.990805     0.880341\n",
              "10         43      0.575527      0.492544     0.646417     0.570520\n",
              "11         51      0.775331      0.882098     0.913927     0.908153\n",
              "12         68      0.878226      0.867409     0.960077     0.773839\n",
              "13         54      0.963575      1.559854     0.842170     0.901097"
            ]
          },
          "metadata": {},
          "execution_count": 3
        }
      ]
    },
    {
      "cell_type": "code",
      "metadata": {
        "id": "i6fP4n-g5II-"
      },
      "source": [
        "x = [hoc for hoc in hembras['hociqueos']]\n",
        "\n",
        "y_1 = [y for y in hembras['citosol erk1']]\n",
        "y_2 = [y for y in hembras['citosol erk2']]\n",
        "y_3 = [y for y in hembras['nucleo erk1']]\n",
        "y_4 = [y for y in hembras['nucleo erk2']]"
      ],
      "execution_count": 4,
      "outputs": []
    },
    {
      "cell_type": "code",
      "metadata": {
        "id": "6DFQ4MIIVLSE"
      },
      "source": [
        "r1, p1 = scipy.stats.pearsonr(x, y_1)\n",
        "r2, p2 = scipy.stats.pearsonr(x, y_2)\n",
        "r3, p3 = scipy.stats.pearsonr(x, y_3)\n",
        "r4, p4 = scipy.stats.pearsonr(x, y_4)\n",
        "\n",
        "text1 = '\\n'.join((\n",
        "    r'$R^2=%.2f$' % (r1**2, ),\n",
        "    r'$p value=%.2f$' % (p1, )))\n",
        "text2 = '\\n'.join((\n",
        "    r'$R^2=%.2f$' % (r2**2, ),\n",
        "    r'$p value=%.2f$' % (p2, )))\n",
        "text3 = '\\n'.join((\n",
        "    r'$R^2=%.2f$' % (r3**2, ),\n",
        "    r'$p value=%.2f$' % (p3, )))\n",
        "text4 = '\\n'.join((\n",
        "    r'$R^2=%.2f$' % (r4**2, ),\n",
        "    r'$p value=%.2f$' % (p4, )))"
      ],
      "execution_count": 5,
      "outputs": []
    },
    {
      "cell_type": "code",
      "metadata": {
        "id": "KRtAKZll5dCo",
        "colab": {
          "base_uri": "https://localhost:8080/",
          "height": 560
        },
        "outputId": "adbb71ca-46ac-4e2a-cd3a-a9aae4234e5c"
      },
      "source": [
        "fig, axes = plt.subplots(2, 2, figsize=(14, 8), sharex=True, sharey=True)\n",
        "fig.suptitle('Hembras', fontsize='xx-large')\n",
        "\n",
        "axes[0, 0].set_title(\"Activación de ERK 1\")\n",
        "sns.regplot(ax=axes[0,0], x=x, y=y_1, color='m', marker='+')\n",
        "sns.regplot(ax=axes[0,1], x=x, y=y_2, color='m')\n",
        "axes[0, 1].set_title(\"Activación de ERK 2\")\n",
        "sns.regplot(ax=axes[1,0], x=x, y=y_3, color='g', marker='+')\n",
        "sns.regplot(ax=axes[1,1], x=x, y=y_4, color='g')\n",
        "\n",
        "axes[0,0].set(ylabel='Citosol')\n",
        "axes[1,0].set(ylabel='Núcleo')\n",
        "axes[1,0].set(xlabel='Hociqueos')\n",
        "axes[1,1].set(xlabel='Hociqueos')\n",
        "\n",
        "props = dict(boxstyle='round', facecolor='white', alpha=0.5)\n",
        "\n",
        "axes[0,0].text(13, 1.6, text1, fontsize=10,\n",
        "        verticalalignment='top', bbox=props)\n",
        "axes[0,1].text(13, 1.6, text2, fontsize=10,\n",
        "        verticalalignment='top', bbox=props)\n",
        "axes[1,0].text(13, 1.6, text3, fontsize=10,\n",
        "        verticalalignment='top', bbox=props)\n",
        "axes[1,1].text(13, 1.6, text4, fontsize=10,\n",
        "        verticalalignment='top', bbox=props)\n",
        "\n",
        "plt.show()"
      ],
      "execution_count": 6,
      "outputs": [
        {
          "output_type": "display_data",
          "data": {
            "image/png": "[encoded data removed]",
            "text/plain": [
              "<Figure size 1008x576 with 4 Axes>"
            ]
          },
          "metadata": {
            "needs_background": "light"
          }
        }
      ]
    },
    {
      "cell_type": "code",
      "metadata": {
        "colab": {
          "base_uri": "https://localhost:8080/",
          "height": 489
        },
        "id": "reJuy1WB_met",
        "outputId": "4cdd8fab-0543-44e3-f5b8-74c9a23d9507"
      },
      "source": [
        "machos = pd.read_excel('/content/drive/MyDrive/Labo/hociqueos.xlsx', sheet_name='Machos')\n",
        "machos"
      ],
      "execution_count": 7,
      "outputs": [
        {
          "output_type": "execute_result",
          "data": {
            "text/html": [
              "<div>\n",
              "<style scoped>\n",
              "    .dataframe tbody tr th:only-of-type {\n",
              "        vertical-align: middle;\n",
              "    }\n",
              "\n",
              "    .dataframe tbody tr th {\n",
              "        vertical-align: top;\n",
              "    }\n",
              "\n",
              "    .dataframe thead th {\n",
              "        text-align: right;\n",
              "    }\n",
              "</style>\n",
              "<table border=\"1\" class=\"dataframe\">\n",
              "  <thead>\n",
              "    <tr style=\"text-align: right;\">\n",
              "      <th></th>\n",
              "      <th>hociqueos</th>\n",
              "      <th>citosol erk1</th>\n",
              "      <th>citosol erk2</th>\n",
              "      <th>nucleo erk1</th>\n",
              "      <th>nucleo erk2</th>\n",
              "    </tr>\n",
              "  </thead>\n",
              "  <tbody>\n",
              "    <tr>\n",
              "      <th>0</th>\n",
              "      <td>53</td>\n",
              "      <td>0.627348</td>\n",
              "      <td>0.627801</td>\n",
              "      <td>0.768205</td>\n",
              "      <td>0.867345</td>\n",
              "    </tr>\n",
              "    <tr>\n",
              "      <th>1</th>\n",
              "      <td>62</td>\n",
              "      <td>1.136416</td>\n",
              "      <td>0.940387</td>\n",
              "      <td>1.171104</td>\n",
              "      <td>1.010813</td>\n",
              "    </tr>\n",
              "    <tr>\n",
              "      <th>2</th>\n",
              "      <td>36</td>\n",
              "      <td>0.861087</td>\n",
              "      <td>0.714409</td>\n",
              "      <td>1.093560</td>\n",
              "      <td>0.942930</td>\n",
              "    </tr>\n",
              "    <tr>\n",
              "      <th>3</th>\n",
              "      <td>63</td>\n",
              "      <td>1.039997</td>\n",
              "      <td>0.848153</td>\n",
              "      <td>1.118828</td>\n",
              "      <td>1.103518</td>\n",
              "    </tr>\n",
              "    <tr>\n",
              "      <th>4</th>\n",
              "      <td>62</td>\n",
              "      <td>1.081625</td>\n",
              "      <td>0.919695</td>\n",
              "      <td>1.184075</td>\n",
              "      <td>1.115857</td>\n",
              "    </tr>\n",
              "    <tr>\n",
              "      <th>5</th>\n",
              "      <td>34</td>\n",
              "      <td>1.062907</td>\n",
              "      <td>0.993854</td>\n",
              "      <td>1.129992</td>\n",
              "      <td>1.158758</td>\n",
              "    </tr>\n",
              "    <tr>\n",
              "      <th>6</th>\n",
              "      <td>46</td>\n",
              "      <td>0.923659</td>\n",
              "      <td>1.353174</td>\n",
              "      <td>1.072570</td>\n",
              "      <td>1.138974</td>\n",
              "    </tr>\n",
              "    <tr>\n",
              "      <th>7</th>\n",
              "      <td>72</td>\n",
              "      <td>1.341302</td>\n",
              "      <td>1.831335</td>\n",
              "      <td>1.094214</td>\n",
              "      <td>1.797683</td>\n",
              "    </tr>\n",
              "    <tr>\n",
              "      <th>8</th>\n",
              "      <td>61</td>\n",
              "      <td>1.123351</td>\n",
              "      <td>1.102718</td>\n",
              "      <td>1.074761</td>\n",
              "      <td>1.156971</td>\n",
              "    </tr>\n",
              "    <tr>\n",
              "      <th>9</th>\n",
              "      <td>31</td>\n",
              "      <td>0.967326</td>\n",
              "      <td>1.004368</td>\n",
              "      <td>1.144456</td>\n",
              "      <td>1.325674</td>\n",
              "    </tr>\n",
              "    <tr>\n",
              "      <th>10</th>\n",
              "      <td>59</td>\n",
              "      <td>1.082532</td>\n",
              "      <td>0.918769</td>\n",
              "      <td>1.107797</td>\n",
              "      <td>1.162104</td>\n",
              "    </tr>\n",
              "    <tr>\n",
              "      <th>11</th>\n",
              "      <td>43</td>\n",
              "      <td>1.009348</td>\n",
              "      <td>0.821506</td>\n",
              "      <td>1.088056</td>\n",
              "      <td>0.795544</td>\n",
              "    </tr>\n",
              "    <tr>\n",
              "      <th>12</th>\n",
              "      <td>63</td>\n",
              "      <td>1.027033</td>\n",
              "      <td>0.767919</td>\n",
              "      <td>1.046294</td>\n",
              "      <td>0.871485</td>\n",
              "    </tr>\n",
              "    <tr>\n",
              "      <th>13</th>\n",
              "      <td>47</td>\n",
              "      <td>0.952353</td>\n",
              "      <td>0.898285</td>\n",
              "      <td>1.040929</td>\n",
              "      <td>1.239469</td>\n",
              "    </tr>\n",
              "  </tbody>\n",
              "</table>\n",
              "</div>"
            ],
            "text/plain": [
              "    hociqueos  citosol erk1  citosol erk2  nucleo erk1  nucleo erk2\n",
              "0          53      0.627348      0.627801     0.768205     0.867345\n",
              "1          62      1.136416      0.940387     1.171104     1.010813\n",
              "2          36      0.861087      0.714409     1.093560     0.942930\n",
              "3          63      1.039997      0.848153     1.118828     1.103518\n",
              "4          62      1.081625      0.919695     1.184075     1.115857\n",
              "5          34      1.062907      0.993854     1.129992     1.158758\n",
              "6          46      0.923659      1.353174     1.072570     1.138974\n",
              "7          72      1.341302      1.831335     1.094214     1.797683\n",
              "8          61      1.123351      1.102718     1.074761     1.156971\n",
              "9          31      0.967326      1.004368     1.144456     1.325674\n",
              "10         59      1.082532      0.918769     1.107797     1.162104\n",
              "11         43      1.009348      0.821506     1.088056     0.795544\n",
              "12         63      1.027033      0.767919     1.046294     0.871485\n",
              "13         47      0.952353      0.898285     1.040929     1.239469"
            ]
          },
          "metadata": {},
          "execution_count": 7
        }
      ]
    },
    {
      "cell_type": "code",
      "metadata": {
        "id": "nuMJ1BkM3TK4"
      },
      "source": [
        "x = [h for h in machos['hociqueos']]\n",
        "\n",
        "y_1 = [y for y in machos['citosol erk1']]\n",
        "y_2 = [y for y in machos['citosol erk2']]\n",
        "y_3 = [y for y in machos['nucleo erk1']]\n",
        "y_4 = [y for y in machos['nucleo erk2']]"
      ],
      "execution_count": 8,
      "outputs": []
    },
    {
      "cell_type": "code",
      "metadata": {
        "id": "9r3WoUeRSH8D"
      },
      "source": [
        "r1, p1 = scipy.stats.pearsonr(x, y_1)\n",
        "r2, p2 = scipy.stats.pearsonr(x, y_2)\n",
        "r3, p3 = scipy.stats.pearsonr(x, y_3)\n",
        "r4, p4 = scipy.stats.pearsonr(x, y_4)\n",
        "\n",
        "text1 = '\\n'.join((\n",
        "    r'$R^2=%.2f$' % (r1**2, ),\n",
        "    r'$p value=%.2f$' % (p1, )))\n",
        "text2 = '\\n'.join((\n",
        "    r'$R^2=%.2f$' % (r2**2, ),\n",
        "    r'$p value=%.2f$' % (p2, )))\n",
        "text3 = '\\n'.join((\n",
        "    r'$R^2=%.2f$' % (r3**2, ),\n",
        "    r'$p value=%.2f$' % (p3, )))\n",
        "text4 = '\\n'.join((\n",
        "    r'$R^2=%.2f$' % (r4**2, ),\n",
        "    r'$p value=%.2f$' % (p4, )))"
      ],
      "execution_count": 9,
      "outputs": []
    },
    {
      "cell_type": "code",
      "metadata": {
        "colab": {
          "base_uri": "https://localhost:8080/",
          "height": 560
        },
        "id": "F27wULnKNHNE",
        "outputId": "1976d32a-439f-43ee-cc24-0f0a34e812fb"
      },
      "source": [
        "fig, axes = plt.subplots(2, 2, figsize=(14, 8), sharex=True, sharey=True)\n",
        "fig.suptitle('Machos', fontsize='xx-large')\n",
        "\n",
        "axes[0, 0].set_title(\"Activación de ERK 1\")\n",
        "sns.regplot(ax=axes[0,0], x=x, y=y_1, color='m', marker='+')\n",
        "sns.regplot(ax=axes[0,1], x=x, y=y_2, color='m')\n",
        "axes[0, 1].set_title(\"Acitivación de ERK 2\")\n",
        "sns.regplot(ax=axes[1,0], x=x, y=y_3, color='g', marker='+')\n",
        "sns.regplot(ax=axes[1,1], x=x, y=y_4, color='g')\n",
        "\n",
        "axes[0,0].set(ylabel='Citosol')\n",
        "axes[1,0].set(ylabel='Núcleo')\n",
        "axes[1,0].set(xlabel='Hociqueos')\n",
        "axes[1,1].set(xlabel='Hociqueos')\n",
        "\n",
        "props = dict(boxstyle='round', facecolor='white', alpha=0.5)\n",
        "\n",
        "axes[0,0].text(30, 1.75, text1, fontsize=10,\n",
        "        verticalalignment='top', bbox=props)\n",
        "axes[0,1].text(30, 1.75, text2, fontsize=10,\n",
        "        verticalalignment='top', bbox=props)\n",
        "axes[1,0].text(30, 1.75, text3, fontsize=10,\n",
        "        verticalalignment='top', bbox=props)\n",
        "axes[1,1].text(30, 1.75, text4, fontsize=10,\n",
        "        verticalalignment='top', bbox=props)\n",
        "\n",
        "plt.show()"
      ],
      "execution_count": 10,
      "outputs": [
        {
          "output_type": "display_data",
          "data": {
            "image/png": "[encoded data removed]",
            "text/plain": [
              "<Figure size 1008x576 with 4 Axes>"
            ]
          },
          "metadata": {
            "needs_background": "light"
          }
        }
      ]
    }
  ]
}